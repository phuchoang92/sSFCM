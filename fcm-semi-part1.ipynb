{
 "cells": [
  {
   "cell_type": "markdown",
   "metadata": {},
   "source": [
    "# **Dataset Preparation & Preprocessing**"
   ]
  },
  {
   "cell_type": "markdown",
   "metadata": {},
   "source": [
    "## Load Data"
   ]
  },
  {
   "cell_type": "code",
   "execution_count": 20,
   "metadata": {},
   "outputs": [
    {
     "data": {
      "text/html": [
       "<div>\n",
       "<style scoped>\n",
       "    .dataframe tbody tr th:only-of-type {\n",
       "        vertical-align: middle;\n",
       "    }\n",
       "\n",
       "    .dataframe tbody tr th {\n",
       "        vertical-align: top;\n",
       "    }\n",
       "\n",
       "    .dataframe thead th {\n",
       "        text-align: right;\n",
       "    }\n",
       "</style>\n",
       "<table border=\"1\" class=\"dataframe\">\n",
       "  <thead>\n",
       "    <tr style=\"text-align: right;\">\n",
       "      <th></th>\n",
       "      <th>0</th>\n",
       "      <th>1</th>\n",
       "      <th>2</th>\n",
       "      <th>3</th>\n",
       "    </tr>\n",
       "  </thead>\n",
       "  <tbody>\n",
       "    <tr>\n",
       "      <th>0</th>\n",
       "      <td>5.1</td>\n",
       "      <td>3.5</td>\n",
       "      <td>1.4</td>\n",
       "      <td>0.2</td>\n",
       "    </tr>\n",
       "    <tr>\n",
       "      <th>1</th>\n",
       "      <td>4.9</td>\n",
       "      <td>3.0</td>\n",
       "      <td>1.4</td>\n",
       "      <td>0.2</td>\n",
       "    </tr>\n",
       "    <tr>\n",
       "      <th>2</th>\n",
       "      <td>4.7</td>\n",
       "      <td>3.2</td>\n",
       "      <td>1.3</td>\n",
       "      <td>0.2</td>\n",
       "    </tr>\n",
       "    <tr>\n",
       "      <th>3</th>\n",
       "      <td>4.6</td>\n",
       "      <td>3.1</td>\n",
       "      <td>1.5</td>\n",
       "      <td>0.2</td>\n",
       "    </tr>\n",
       "    <tr>\n",
       "      <th>4</th>\n",
       "      <td>5.0</td>\n",
       "      <td>3.6</td>\n",
       "      <td>1.4</td>\n",
       "      <td>0.2</td>\n",
       "    </tr>\n",
       "    <tr>\n",
       "      <th>...</th>\n",
       "      <td>...</td>\n",
       "      <td>...</td>\n",
       "      <td>...</td>\n",
       "      <td>...</td>\n",
       "    </tr>\n",
       "    <tr>\n",
       "      <th>145</th>\n",
       "      <td>6.7</td>\n",
       "      <td>3.0</td>\n",
       "      <td>5.2</td>\n",
       "      <td>2.3</td>\n",
       "    </tr>\n",
       "    <tr>\n",
       "      <th>146</th>\n",
       "      <td>6.3</td>\n",
       "      <td>2.5</td>\n",
       "      <td>5.0</td>\n",
       "      <td>1.9</td>\n",
       "    </tr>\n",
       "    <tr>\n",
       "      <th>147</th>\n",
       "      <td>6.5</td>\n",
       "      <td>3.0</td>\n",
       "      <td>5.2</td>\n",
       "      <td>2.0</td>\n",
       "    </tr>\n",
       "    <tr>\n",
       "      <th>148</th>\n",
       "      <td>6.2</td>\n",
       "      <td>3.4</td>\n",
       "      <td>5.4</td>\n",
       "      <td>2.3</td>\n",
       "    </tr>\n",
       "    <tr>\n",
       "      <th>149</th>\n",
       "      <td>5.9</td>\n",
       "      <td>3.0</td>\n",
       "      <td>5.1</td>\n",
       "      <td>1.8</td>\n",
       "    </tr>\n",
       "  </tbody>\n",
       "</table>\n",
       "<p>150 rows × 4 columns</p>\n",
       "</div>"
      ],
      "text/plain": [
       "       0    1    2    3\n",
       "0    5.1  3.5  1.4  0.2\n",
       "1    4.9  3.0  1.4  0.2\n",
       "2    4.7  3.2  1.3  0.2\n",
       "3    4.6  3.1  1.5  0.2\n",
       "4    5.0  3.6  1.4  0.2\n",
       "..   ...  ...  ...  ...\n",
       "145  6.7  3.0  5.2  2.3\n",
       "146  6.3  2.5  5.0  1.9\n",
       "147  6.5  3.0  5.2  2.0\n",
       "148  6.2  3.4  5.4  2.3\n",
       "149  5.9  3.0  5.1  1.8\n",
       "\n",
       "[150 rows x 4 columns]"
      ]
     },
     "execution_count": 20,
     "metadata": {},
     "output_type": "execute_result"
    }
   ],
   "source": [
    "# đọc dữ liệu\n",
    "import pandas as pd\n",
    "data = pd.read_csv('resources/iris.data', header = None)\n",
    "value = data.select_dtypes(include=[\"float64\", \"int64\"])\n",
    "label = data.select_dtypes(exclude=[\"float64\", \"int64\"])\n",
    "value"
   ]
  },
  {
   "cell_type": "code",
   "execution_count": 21,
   "metadata": {},
   "outputs": [],
   "source": [
    "# Xử lý nhãn dư, đếm nhãn\n",
    "import numpy as np\n",
    "label_list = pd.unique(label[label.columns[0]])\n",
    "label_list = label_list.tolist()\n",
    "num_class = len(label_list)\n",
    "label_data =label[label.columns[0]].values.tolist()\n",
    "label_count = np.array(label[label.columns[0]].value_counts())\n"
   ]
  },
  {
   "cell_type": "code",
   "execution_count": 22,
   "metadata": {},
   "outputs": [
    {
     "name": "stdout",
     "output_type": "stream",
     "text": [
      "['Iris-setosa', 'Iris-versicolor', 'Iris-virginica']\n"
     ]
    }
   ],
   "source": [
    "print(label_list)"
   ]
  },
  {
   "cell_type": "code",
   "execution_count": 23,
   "metadata": {},
   "outputs": [
    {
     "name": "stdout",
     "output_type": "stream",
     "text": [
      "(150, 4)\n"
     ]
    },
    {
     "data": {
      "text/plain": [
       "array([[5.1, 3.5, 1.4, 0.2],\n",
       "       [4.9, 3. , 1.4, 0.2],\n",
       "       [4.7, 3.2, 1.3, 0.2],\n",
       "       [4.6, 3.1, 1.5, 0.2],\n",
       "       [5. , 3.6, 1.4, 0.2],\n",
       "       [5.4, 3.9, 1.7, 0.4],\n",
       "       [4.6, 3.4, 1.4, 0.3],\n",
       "       [5. , 3.4, 1.5, 0.2],\n",
       "       [4.4, 2.9, 1.4, 0.2],\n",
       "       [4.9, 3.1, 1.5, 0.1],\n",
       "       [5.4, 3.7, 1.5, 0.2],\n",
       "       [4.8, 3.4, 1.6, 0.2],\n",
       "       [4.8, 3. , 1.4, 0.1],\n",
       "       [4.3, 3. , 1.1, 0.1],\n",
       "       [5.8, 4. , 1.2, 0.2],\n",
       "       [5.7, 4.4, 1.5, 0.4],\n",
       "       [5.4, 3.9, 1.3, 0.4],\n",
       "       [5.1, 3.5, 1.4, 0.3],\n",
       "       [5.7, 3.8, 1.7, 0.3],\n",
       "       [5.1, 3.8, 1.5, 0.3],\n",
       "       [5.4, 3.4, 1.7, 0.2],\n",
       "       [5.1, 3.7, 1.5, 0.4],\n",
       "       [4.6, 3.6, 1. , 0.2],\n",
       "       [5.1, 3.3, 1.7, 0.5],\n",
       "       [4.8, 3.4, 1.9, 0.2],\n",
       "       [5. , 3. , 1.6, 0.2],\n",
       "       [5. , 3.4, 1.6, 0.4],\n",
       "       [5.2, 3.5, 1.5, 0.2],\n",
       "       [5.2, 3.4, 1.4, 0.2],\n",
       "       [4.7, 3.2, 1.6, 0.2],\n",
       "       [4.8, 3.1, 1.6, 0.2],\n",
       "       [5.4, 3.4, 1.5, 0.4],\n",
       "       [5.2, 4.1, 1.5, 0.1],\n",
       "       [5.5, 4.2, 1.4, 0.2],\n",
       "       [4.9, 3.1, 1.5, 0.1],\n",
       "       [5. , 3.2, 1.2, 0.2],\n",
       "       [5.5, 3.5, 1.3, 0.2],\n",
       "       [4.9, 3.1, 1.5, 0.1],\n",
       "       [4.4, 3. , 1.3, 0.2],\n",
       "       [5.1, 3.4, 1.5, 0.2],\n",
       "       [5. , 3.5, 1.3, 0.3],\n",
       "       [4.5, 2.3, 1.3, 0.3],\n",
       "       [4.4, 3.2, 1.3, 0.2],\n",
       "       [5. , 3.5, 1.6, 0.6],\n",
       "       [5.1, 3.8, 1.9, 0.4],\n",
       "       [4.8, 3. , 1.4, 0.3],\n",
       "       [5.1, 3.8, 1.6, 0.2],\n",
       "       [4.6, 3.2, 1.4, 0.2],\n",
       "       [5.3, 3.7, 1.5, 0.2],\n",
       "       [5. , 3.3, 1.4, 0.2],\n",
       "       [7. , 3.2, 4.7, 1.4],\n",
       "       [6.4, 3.2, 4.5, 1.5],\n",
       "       [6.9, 3.1, 4.9, 1.5],\n",
       "       [5.5, 2.3, 4. , 1.3],\n",
       "       [6.5, 2.8, 4.6, 1.5],\n",
       "       [5.7, 2.8, 4.5, 1.3],\n",
       "       [6.3, 3.3, 4.7, 1.6],\n",
       "       [4.9, 2.4, 3.3, 1. ],\n",
       "       [6.6, 2.9, 4.6, 1.3],\n",
       "       [5.2, 2.7, 3.9, 1.4],\n",
       "       [5. , 2. , 3.5, 1. ],\n",
       "       [5.9, 3. , 4.2, 1.5],\n",
       "       [6. , 2.2, 4. , 1. ],\n",
       "       [6.1, 2.9, 4.7, 1.4],\n",
       "       [5.6, 2.9, 3.6, 1.3],\n",
       "       [6.7, 3.1, 4.4, 1.4],\n",
       "       [5.6, 3. , 4.5, 1.5],\n",
       "       [5.8, 2.7, 4.1, 1. ],\n",
       "       [6.2, 2.2, 4.5, 1.5],\n",
       "       [5.6, 2.5, 3.9, 1.1],\n",
       "       [5.9, 3.2, 4.8, 1.8],\n",
       "       [6.1, 2.8, 4. , 1.3],\n",
       "       [6.3, 2.5, 4.9, 1.5],\n",
       "       [6.1, 2.8, 4.7, 1.2],\n",
       "       [6.4, 2.9, 4.3, 1.3],\n",
       "       [6.6, 3. , 4.4, 1.4],\n",
       "       [6.8, 2.8, 4.8, 1.4],\n",
       "       [6.7, 3. , 5. , 1.7],\n",
       "       [6. , 2.9, 4.5, 1.5],\n",
       "       [5.7, 2.6, 3.5, 1. ],\n",
       "       [5.5, 2.4, 3.8, 1.1],\n",
       "       [5.5, 2.4, 3.7, 1. ],\n",
       "       [5.8, 2.7, 3.9, 1.2],\n",
       "       [6. , 2.7, 5.1, 1.6],\n",
       "       [5.4, 3. , 4.5, 1.5],\n",
       "       [6. , 3.4, 4.5, 1.6],\n",
       "       [6.7, 3.1, 4.7, 1.5],\n",
       "       [6.3, 2.3, 4.4, 1.3],\n",
       "       [5.6, 3. , 4.1, 1.3],\n",
       "       [5.5, 2.5, 4. , 1.3],\n",
       "       [5.5, 2.6, 4.4, 1.2],\n",
       "       [6.1, 3. , 4.6, 1.4],\n",
       "       [5.8, 2.6, 4. , 1.2],\n",
       "       [5. , 2.3, 3.3, 1. ],\n",
       "       [5.6, 2.7, 4.2, 1.3],\n",
       "       [5.7, 3. , 4.2, 1.2],\n",
       "       [5.7, 2.9, 4.2, 1.3],\n",
       "       [6.2, 2.9, 4.3, 1.3],\n",
       "       [5.1, 2.5, 3. , 1.1],\n",
       "       [5.7, 2.8, 4.1, 1.3],\n",
       "       [6.3, 3.3, 6. , 2.5],\n",
       "       [5.8, 2.7, 5.1, 1.9],\n",
       "       [7.1, 3. , 5.9, 2.1],\n",
       "       [6.3, 2.9, 5.6, 1.8],\n",
       "       [6.5, 3. , 5.8, 2.2],\n",
       "       [7.6, 3. , 6.6, 2.1],\n",
       "       [4.9, 2.5, 4.5, 1.7],\n",
       "       [7.3, 2.9, 6.3, 1.8],\n",
       "       [6.7, 2.5, 5.8, 1.8],\n",
       "       [7.2, 3.6, 6.1, 2.5],\n",
       "       [6.5, 3.2, 5.1, 2. ],\n",
       "       [6.4, 2.7, 5.3, 1.9],\n",
       "       [6.8, 3. , 5.5, 2.1],\n",
       "       [5.7, 2.5, 5. , 2. ],\n",
       "       [5.8, 2.8, 5.1, 2.4],\n",
       "       [6.4, 3.2, 5.3, 2.3],\n",
       "       [6.5, 3. , 5.5, 1.8],\n",
       "       [7.7, 3.8, 6.7, 2.2],\n",
       "       [7.7, 2.6, 6.9, 2.3],\n",
       "       [6. , 2.2, 5. , 1.5],\n",
       "       [6.9, 3.2, 5.7, 2.3],\n",
       "       [5.6, 2.8, 4.9, 2. ],\n",
       "       [7.7, 2.8, 6.7, 2. ],\n",
       "       [6.3, 2.7, 4.9, 1.8],\n",
       "       [6.7, 3.3, 5.7, 2.1],\n",
       "       [7.2, 3.2, 6. , 1.8],\n",
       "       [6.2, 2.8, 4.8, 1.8],\n",
       "       [6.1, 3. , 4.9, 1.8],\n",
       "       [6.4, 2.8, 5.6, 2.1],\n",
       "       [7.2, 3. , 5.8, 1.6],\n",
       "       [7.4, 2.8, 6.1, 1.9],\n",
       "       [7.9, 3.8, 6.4, 2. ],\n",
       "       [6.4, 2.8, 5.6, 2.2],\n",
       "       [6.3, 2.8, 5.1, 1.5],\n",
       "       [6.1, 2.6, 5.6, 1.4],\n",
       "       [7.7, 3. , 6.1, 2.3],\n",
       "       [6.3, 3.4, 5.6, 2.4],\n",
       "       [6.4, 3.1, 5.5, 1.8],\n",
       "       [6. , 3. , 4.8, 1.8],\n",
       "       [6.9, 3.1, 5.4, 2.1],\n",
       "       [6.7, 3.1, 5.6, 2.4],\n",
       "       [6.9, 3.1, 5.1, 2.3],\n",
       "       [5.8, 2.7, 5.1, 1.9],\n",
       "       [6.8, 3.2, 5.9, 2.3],\n",
       "       [6.7, 3.3, 5.7, 2.5],\n",
       "       [6.7, 3. , 5.2, 2.3],\n",
       "       [6.3, 2.5, 5. , 1.9],\n",
       "       [6.5, 3. , 5.2, 2. ],\n",
       "       [6.2, 3.4, 5.4, 2.3],\n",
       "       [5.9, 3. , 5.1, 1.8]])"
      ]
     },
     "execution_count": 23,
     "metadata": {},
     "output_type": "execute_result"
    }
   ],
   "source": [
    "import numpy as np\n",
    "X = np.array(value)\n",
    "n = X.shape[0]\n",
    "p = X.shape[1]\n",
    "print(X.shape)\n",
    "X"
   ]
  },
  {
   "cell_type": "markdown",
   "metadata": {},
   "source": [
    "## Generate U_ngang , V"
   ]
  },
  {
   "cell_type": "code",
   "execution_count": 24,
   "metadata": {},
   "outputs": [],
   "source": [
    "dict_cluster = {}"
   ]
  },
  {
   "cell_type": "code",
   "execution_count": 25,
   "metadata": {},
   "outputs": [],
   "source": [
    "c = 0\n",
    "def set_c(input):\n",
    "    global c\n",
    "    c = input"
   ]
  },
  {
   "cell_type": "code",
   "execution_count": 26,
   "metadata": {},
   "outputs": [],
   "source": [
    "from random import random\n",
    "import random\n",
    "\n",
    "def generate_U_ngang(k1):\n",
    "    global U_ngang\n",
    "    global index_x_giamsat\n",
    "    global sum_i\n",
    "    U_ngang = np.zeros((n,c))\n",
    "    \n",
    "    \n",
    "    index_x_giamsat = random.sample(range(n),k1)# CHọn k1 vector x từ n vector x ban đầu  \n",
    "    index_x_giamsat = np.sort(index_x_giamsat)\n",
    "\n",
    "    for i in range(k1):\n",
    "        if len(dict_cluster) == 0 :\n",
    "            c1= random.randint(0,c-1)\n",
    "        else:\n",
    "            c1= dict_cluster[label_data[index_x_giamsat[i]]]\n",
    "            #Chọn vị trí cụm giám sát\n",
    "        U_ngang[index_x_giamsat[i]][c1] = 0.5     \n",
    "    sum_i= sum(U_ngang.T)\n",
    "# #Maxtrix U_ngang\n",
    "# for i in range(n):\n",
    "#     print(str(i) +\" : \"+ str(U_ngang[i]))"
   ]
  },
  {
   "cell_type": "code",
   "execution_count": 27,
   "metadata": {},
   "outputs": [],
   "source": [
    "#Maxtrix V sinh ngau nhien\n",
    "\n",
    "def generate_V():\n",
    "    global V\n",
    "    V = np.random.rand(c,p) "
   ]
  },
  {
   "cell_type": "markdown",
   "metadata": {},
   "source": [
    "## Function 4 ,6"
   ]
  },
  {
   "cell_type": "code",
   "execution_count": 28,
   "metadata": {},
   "outputs": [],
   "source": [
    "# Tinh d_ki (trong cong thuc 6)\n",
    "def d_ki(k, i):\n",
    "    kq = sum(  pow(X[k] - V[i], 2) )\n",
    "    return kq     "
   ]
  },
  {
   "cell_type": "code",
   "execution_count": 29,
   "metadata": {},
   "outputs": [],
   "source": [
    "#Cong thuc so 6\n",
    "\n",
    "\n",
    "\n",
    "def cong_thuc_6(m):\n",
    "    Z = np.zeros((n,c))\n",
    "    #tu day suy ra U = U_ngang + Z ta tinh Z\n",
    "\n",
    "    D = np.zeros((n,c))\n",
    "    for k in range(n):\n",
    "        for i in range(c):\n",
    "            D[k][i] = pow(d_ki(k,i),1/(1-m))    \n",
    "        D[k] = D[k]/sum(D[k])    \n",
    "      \n",
    "    #Z = (1/d_ki)^1/m-1z = np.array (i = 1 ,c)\n",
    "    for i in range(n) :\n",
    "        Z[i] = (1 - sum_i[i] )*D[i]\n",
    "        \n",
    "    return U_ngang+Z  # tuc la U  "
   ]
  },
  {
   "cell_type": "code",
   "execution_count": 30,
   "metadata": {},
   "outputs": [],
   "source": [
    "def cong_thuc_4(m):\n",
    "    V_temp = np.zeros((c,p))\n",
    "    U_temp = abs(U - U_ngang)\n",
    "    U_temp = pow(U_temp,m)\n",
    "    for i in range(c):\n",
    "        tu_so = np.zeros(p)\n",
    "        for k in range(n):\n",
    "           tu_so +=U_temp[k][i] * X[k] \n",
    "        V_temp[i] = tu_so/ sum((U_temp.T)[i])\n",
    "    return V_temp"
   ]
  },
  {
   "cell_type": "markdown",
   "metadata": {},
   "source": [
    "# **Đánh giá kết quả**"
   ]
  },
  {
   "cell_type": "code",
   "execution_count": 31,
   "metadata": {},
   "outputs": [],
   "source": [
    "# đếm số lượng phần tử mỗi cụm tương ứng với từng lớp nhãn dữ liệu\n",
    "def count_class(num_class, num_cluster):\n",
    "    global count_class_cluster\n",
    "    count_class_cluster = np.zeros((num_class,num_cluster), dtype=\"int64\")\n",
    "    for k in range(n):\n",
    "        k_class = label_list.index(label_data[k])\n",
    "        index_max = np.argmax(U[k])\n",
    "        count_class_cluster[k_class][index_max] +=1   \n",
    "    # Ma trận có num_class dòng và num_cluster cột, phần tử thứ i,j của ma trận thuộc class i, cluster j\n",
    "     "
   ]
  },
  {
   "cell_type": "code",
   "execution_count": 32,
   "metadata": {},
   "outputs": [],
   "source": [
    "\n",
    "# Các độ đo\n",
    "def external_validity(num_class, c):\n",
    "    a1 = b1 = c1 = d1= 0\n",
    "    for i in range(num_class):\n",
    "        a1+= sum ( (count_class_cluster[i]-1)*count_class_cluster[i]/2 )\n",
    "        b1+= (pow(sum(count_class_cluster[i]),2) - sum(pow(count_class_cluster[i],2)) )/2\n",
    "    for i in range(num_class-1):\n",
    "        for j in range(i+1, num_class):\n",
    "            for k in range(c):\n",
    "                c1+=count_class_cluster[i][k] * count_class_cluster[j][k]\n",
    "                for h in range(c):\n",
    "                    if h!=k :\n",
    "                        d1+=count_class_cluster[i][k] * count_class_cluster[j][h]  \n",
    "    print(\"a1= \"+str(a1))\n",
    "    print(\"b1= \"+str(b1))\n",
    "    print(\"c1= \"+str(c1))\n",
    "    print(\"d1= \"+str(d1))\n",
    "    # Rand int\n",
    "    w1 =  (a1 + d1)/ (a1 +b1 + c1 +d1)\n",
    "    # Adjusted Rand Index\n",
    "    M= a1 + b1 +c1 +d1\n",
    "    w2 = (a1 - (a1+c1)*(a1+b1)/M) /( (2*a1+b1+c1)/2 - (a1+c1)*(a1+b1)/M )\n",
    "    #Jaccard Coefficient\n",
    "    w3 = a1 / (a1+b1+c1)\n",
    "    print (\"Rand Index :\" +str(w1))\n",
    "    print (\"Adjusted Rand Index :\" + str(w2))\n",
    "    print (\"Jaccard Coefficient\" +str(w3))\n",
    "    "
   ]
  },
  {
   "cell_type": "code",
   "execution_count": 33,
   "metadata": {},
   "outputs": [],
   "source": [
    "def Meam_accuraccy():\n",
    "    sum_cluster = sum(count_class_cluster)\n",
    "    mean_accuraccy = sum_cluster/label_count\n",
    "    print(np.amin(mean_accuraccy))\n",
    "        \n",
    "    \n",
    "    "
   ]
  },
  {
   "cell_type": "code",
   "execution_count": 34,
   "metadata": {},
   "outputs": [],
   "source": [
    "def set_dict_cluster():\n",
    "    global dict_cluster\n",
    "    for i in range(num_class):\n",
    "        temp = np.argmax(count_class_cluster[i])\n",
    "        dict_cluster[label_list[i]] = temp\n",
    "    return\n",
    "\n",
    "def rs_dict_cluster():\n",
    "    global dict_cluster\n",
    "    dict_cluster = {}\n",
    "    return"
   ]
  },
  {
   "cell_type": "markdown",
   "metadata": {},
   "source": [
    "# **Thuật toán**"
   ]
  },
  {
   "cell_type": "code",
   "execution_count": 35,
   "metadata": {},
   "outputs": [],
   "source": [
    "def thuat_toan_1_pha(epsilon,m,c,k1):\n",
    "    global U,V,count_class_cluster\n",
    "    global dict_cluster\n",
    "    dict_cluster = {}\n",
    "    \n",
    "    set_c(c)\n",
    "    generate_U_ngang(k1)\n",
    "    generate_V()\n",
    "\n",
    "    Epsilon = np.zeros((c,p)) + epsilon\n",
    "    i=1\n",
    "    while True:\n",
    "        # print(\"-----------------------\\nChay lan \"+ str(i)+\"\\n\")\n",
    "        i+=1\n",
    "        U= cong_thuc_6(m)\n",
    "        V_truoc =V\n",
    "        V= cong_thuc_4(m)\n",
    "        delta_V = abs(V- V_truoc)\n",
    "        ktra = np.less_equal(delta_V, Epsilon)\n",
    "        if (np.all(ktra)):\n",
    "            break\n",
    "    print(\"\\n------------------------------------\\nKetqua\\nV:\")\n",
    "    print(V)\n",
    "    count_class(num_class, c)\n",
    "    external_validity(num_class, c)\n",
    "    # Meam_accuraccy()\n",
    "    return"
   ]
  },
  {
   "cell_type": "code",
   "execution_count": 41,
   "metadata": {},
   "outputs": [],
   "source": [
    "def thuat_toan_2_pha(epsilon,m,c,k1):\n",
    "    global V,U, count_class_cluster, dict_cluster\n",
    "    set_c(c)\n",
    "    generate_V()\n",
    "    V_temp = V\n",
    "    # Pha 1 (Khong giam sat k1 = 0)\n",
    "    dict_cluster = {}\n",
    "    generate_U_ngang(0) \n",
    "    Epsilon = np.zeros((c,p)) + epsilon\n",
    "    while True:\n",
    "        U= cong_thuc_6(m)\n",
    "        V_truoc = V\n",
    "        V= cong_thuc_4(m)\n",
    "        delta_V = abs(V- V_truoc)\n",
    "        ktra = np.less_equal(delta_V, Epsilon)\n",
    "        if (np.all(ktra)):\n",
    "            break\n",
    "    count_class(num_class, c)\n",
    "    set_dict_cluster()  \n",
    "    #Pha 2(Co giam sat k1 = k1)\n",
    "    V = V_temp\n",
    "    generate_U_ngang(k1)\n",
    "    while True:\n",
    "        U= cong_thuc_6(m)\n",
    "        \n",
    "        V_truoc = V\n",
    "        V= cong_thuc_4(m)\n",
    "        \n",
    "        delta_V = abs(V- V_truoc)\n",
    "        ktra = np.less_equal(delta_V, Epsilon)\n",
    "        if (np.all(ktra)):\n",
    "            break\n",
    "    print(\"\\n------------------------------------\\nKetqua\\nV:\")\n",
    "    print(V)\n",
    "    count_class(num_class, c)\n",
    "    external_validity(num_class, c)\n",
    "    # Meam_accuraccy()\n",
    "    rs_dict_cluster()\n",
    "    return\n",
    "    \n",
    "    \n",
    "    "
   ]
  },
  {
   "cell_type": "markdown",
   "metadata": {},
   "source": [
    "# **Main**"
   ]
  },
  {
   "cell_type": "code",
   "execution_count": 43,
   "metadata": {},
   "outputs": [
    {
     "name": "stdout",
     "output_type": "stream",
     "text": [
      "\n",
      "------------------------------------\n",
      "Ketqua\n",
      "V:\n",
      "[[6.88893899 3.05962661 5.78209261 2.1126668 ]\n",
      " [5.64402599 2.68086927 3.99259871 1.23023629]\n",
      " [6.22575665 2.90394699 4.88534753 1.67462891]\n",
      " [5.00466071 3.40578814 1.48069889 0.24831276]]\n",
      "a1= 2555.0\n",
      "b1= 1120.0\n",
      "c1= 288\n",
      "d1= 7212\n",
      "Rand Index :0.8740044742729306\n",
      "Adjusted Rand Index :0.697081008651858\n",
      "Jaccard Coefficient0.6447136008074691\n"
     ]
    }
   ],
   "source": [
    "thuat_toan_2_pha(1e-6,2,4,20)"
   ]
  },
  {
   "cell_type": "code",
   "execution_count": 38,
   "metadata": {},
   "outputs": [
    {
     "name": "stdout",
     "output_type": "stream",
     "text": [
      "\n",
      "------------------------------------\n",
      "Ketqua\n",
      "V:\n",
      "[[6.25459911 2.88556543 4.90945467 1.69273975]\n",
      " [6.99946615 3.10360039 5.89012684 2.11859002]\n",
      " [5.63798888 2.65581589 4.02435171 1.24177074]\n",
      " [4.99999798 3.40705692 1.47207434 0.245306  ]]\n",
      "a1= 2423.0\n",
      "b1= 1252.0\n",
      "c1= 491\n",
      "d1= 7009\n",
      "Rand Index :0.8440268456375839\n",
      "Adjusted Rand Index :0.6269590585315195\n",
      "Jaccard Coefficient0.5816130580892943\n"
     ]
    }
   ],
   "source": [
    "thuat_toan_1_pha(1e-6,2, 4, 0)"
   ]
  }
 ],
 "metadata": {
  "interpreter": {
   "hash": "dcacb0086e9a4f4eabd41c33bf4faac5ea0a3337ed3f5eff0680afa930572c04"
  },
  "kernelspec": {
   "display_name": "Python 3.9.1 64-bit",
   "name": "python3"
  },
  "language_info": {
   "codemirror_mode": {
    "name": "ipython",
    "version": 3
   },
   "file_extension": ".py",
   "mimetype": "text/x-python",
   "name": "python",
   "nbconvert_exporter": "python",
   "pygments_lexer": "ipython3",
   "version": "3.9.1"
  },
  "orig_nbformat": 4
 },
 "nbformat": 4,
 "nbformat_minor": 2
}
